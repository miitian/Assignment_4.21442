{
 "cells": [
  {
   "cell_type": "markdown",
   "metadata": {},
   "source": [
    "## Given a sequence of n values x1, x2, ..., xn and a window size k>0, the k-th moving\n",
    "### average of the given sequence is defined as follows:\n",
    "### The moving average sequence has n-k+1 elements as shown below.\n",
    "\n",
    "### The moving averages with k=4 of a ten-value sequence (n=10) is shown below\n",
    "\n",
    "#### i 1 2 3 4 5 6 7 8 9 10\n",
    "#### ===== == == == == == == == == == ==\n",
    "#### Input 10 20 30 40 50 60 70 80 90 100\n",
    "#### y1 25 = (10+20+30+40)/4\n",
    "#### y2 35 = (20+30+40+50)/4\n",
    "#### y3 45 = (30+40+50+60)/4\n",
    "#### y4 55 = (40+50+60+70)/4\n",
    "#### y5 65 = (50+60+70+80)/4\n",
    "#### y6 75 = (60+70+80+90)/4\n",
    "#### y7 85 = (70+80+90+100)/4\n",
    "\n",
    "#### Thus, the moving average sequence has n-k+1=10-4+1=7 values."
   ]
  },
  {
   "cell_type": "code",
   "execution_count": 9,
   "metadata": {},
   "outputs": [],
   "source": [
    "import numpy as np\n",
    "\n",
    "def moving_average(list1, num):\n",
    "    n = len(list1)\n",
    "    k = num\n",
    "    # index i till n-k+1(to iterate over whole list)\n",
    "    # get sum for k nums and divide by k (moving average)\n",
    "    avg = [(sum([list1[i+x] for x in range(k)]))/k for i in range(n-k+1)]\n",
    "    \n",
    "    return np.array(avg)\n",
    "        \n",
    "    "
   ]
  },
  {
   "cell_type": "code",
   "execution_count": 10,
   "metadata": {},
   "outputs": [
    {
     "name": "stdout",
     "output_type": "stream",
     "text": [
      "[25. 35. 45. 55. 65. 75. 85.]\n"
     ]
    }
   ],
   "source": [
    "list1 = [10,20,30,40,50,60,70,80,90,100]\n",
    "print(moving_average(list1, 4))"
   ]
  },
  {
   "cell_type": "code",
   "execution_count": 11,
   "metadata": {},
   "outputs": [
    {
     "name": "stdout",
     "output_type": "stream",
     "text": [
      "[  5.           4.66666667   5.66666667   6.66666667   9.66666667\n",
      "  28.66666667  49.33333333  72.66666667  84.          93.33333333\n",
      " 116.33333333]\n"
     ]
    }
   ],
   "source": [
    "list2 = [3, 5, 7, 2, 8, 10, 11, 65, 72, 81, 99, 100, 150] \n",
    "print(moving_average(list2, 3))"
   ]
  },
  {
   "cell_type": "code",
   "execution_count": null,
   "metadata": {},
   "outputs": [],
   "source": []
  }
 ],
 "metadata": {
  "kernelspec": {
   "display_name": "Python 3",
   "language": "python",
   "name": "python3"
  },
  "language_info": {
   "codemirror_mode": {
    "name": "ipython",
    "version": 3
   },
   "file_extension": ".py",
   "mimetype": "text/x-python",
   "name": "python",
   "nbconvert_exporter": "python",
   "pygments_lexer": "ipython3",
   "version": "3.6.5"
  }
 },
 "nbformat": 4,
 "nbformat_minor": 2
}
